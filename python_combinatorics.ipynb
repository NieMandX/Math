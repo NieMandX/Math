{
  "nbformat": 4,
  "nbformat_minor": 0,
  "metadata": {
    "colab": {
      "provenance": [],
      "collapsed_sections": [],
      "authorship_tag": "ABX9TyPWNBBRq2WdqLCcTqPdXy+N",
      "include_colab_link": true
    },
    "kernelspec": {
      "name": "python3",
      "display_name": "Python 3"
    },
    "language_info": {
      "name": "python"
    }
  },
  "cells": [
    {
      "cell_type": "markdown",
      "metadata": {
        "id": "view-in-github",
        "colab_type": "text"
      },
      "source": [
        "<a href=\"https://colab.research.google.com/github/NieMandX/Math/blob/master/python_combinatorics.ipynb\" target=\"_parent\"><img src=\"https://colab.research.google.com/assets/colab-badge.svg\" alt=\"Open In Colab\"/></a>"
      ]
    },
    {
      "cell_type": "markdown",
      "source": [
        "## MATH. COMBINATORICS (КОМБИНАТОРИКА)"
      ],
      "metadata": {
        "id": "LqGd5PJ_MWCJ"
      }
    },
    {
      "cell_type": "markdown",
      "source": [],
      "metadata": {
        "id": "wf2f06B4MSRY"
      }
    },
    {
      "cell_type": "code",
      "source": [
        "import itertools"
      ],
      "metadata": {
        "id": "FtirEp8gMy8p"
      },
      "execution_count": 2,
      "outputs": []
    },
    {
      "cell_type": "markdown",
      "source": [],
      "metadata": {
        "id": "9dTiv_MvMQVl"
      }
    },
    {
      "cell_type": "code",
      "source": [
        "list(itertools.product(['UP', 'DOWN'], repeat = 3))"
      ],
      "metadata": {
        "colab": {
          "base_uri": "https://localhost:8080/"
        },
        "id": "EWa-xLzxMHiv",
        "outputId": "5b9fb2b1-b7ed-41d3-9438-b8b606e50502"
      },
      "execution_count": 12,
      "outputs": [
        {
          "output_type": "execute_result",
          "data": {
            "text/plain": [
              "[('UP', 'UP', 'UP'),\n",
              " ('UP', 'UP', 'DOWN'),\n",
              " ('UP', 'DOWN', 'UP'),\n",
              " ('UP', 'DOWN', 'DOWN'),\n",
              " ('DOWN', 'UP', 'UP'),\n",
              " ('DOWN', 'UP', 'DOWN'),\n",
              " ('DOWN', 'DOWN', 'UP'),\n",
              " ('DOWN', 'DOWN', 'DOWN')]"
            ]
          },
          "metadata": {},
          "execution_count": 12
        }
      ]
    },
    {
      "cell_type": "code",
      "source": [],
      "metadata": {
        "id": "BazeAORnNi8N"
      },
      "execution_count": null,
      "outputs": []
    }
  ]
}